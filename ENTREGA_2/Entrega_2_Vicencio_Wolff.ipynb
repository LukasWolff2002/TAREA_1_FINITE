{
  "cells": [
    {
      "cell_type": "markdown",
      "metadata": {},
      "source": [
        "### Download Dependencies"
      ]
    },
    {
      "cell_type": "code",
      "execution_count": null,
      "metadata": {
        "colab": {
          "base_uri": "https://localhost:8080/"
        },
        "id": "A9FSV98RmHss",
        "outputId": "513a70b9-4aa1-49d2-b662-34536ee73532"
      },
      "outputs": [],
      "source": [
        "!git clone https://github.com/LukasWolff2002/TAREA_1_FINITE.git"
      ]
    },
    {
      "cell_type": "markdown",
      "metadata": {},
      "source": [
        "### Go to the main directory\n"
      ]
    },
    {
      "cell_type": "code",
      "execution_count": null,
      "metadata": {
        "id": "Hw3eEAawmP_t"
      },
      "outputs": [],
      "source": [
        "import os\n",
        "os.chdir(\"TAREA_1_FINITE/CODE\")"
      ]
    },
    {
      "cell_type": "markdown",
      "metadata": {},
      "source": [
        "### Download Coad"
      ]
    },
    {
      "cell_type": "code",
      "execution_count": null,
      "metadata": {},
      "outputs": [],
      "source": [
        "import numpy as np\n",
        "from solver import Solver\n",
        "from matrix_assembly import Assembly\n",
        "from structure_assembly import Structure\n",
        "from graph import plot_original_structure_all_forces, plot_deformed_structures, plotStructureWithMomentDiagram, plotStructureWithShearDiagram, plotStructureWithAxialDiagram\n",
        "import matplotlib.pyplot as plt"
      ]
    },
    {
      "cell_type": "markdown",
      "metadata": {},
      "source": [
        "### Run code for structure without rigid offsets"
      ]
    },
    {
      "cell_type": "code",
      "execution_count": null,
      "metadata": {
        "colab": {
          "base_uri": "https://localhost:8080/",
          "height": 1000
        },
        "id": "hIcUQPTmmdgx",
        "outputId": "4529a335-aefa-4042-e038-f653a866a199"
      },
      "outputs": [],
      "source": [
        "structure_1 = Structure(nombre='A case, without rigid offsets',dxdy = [0, 0.0], caso='a')\n",
        "structure_2 = Structure(nombre='B case, without rigid offsets',dxdy = [0, 0.0], caso='b')\n",
        "structure_3 = Structure(nombre='C case, without rigid offsets',dxdy = [0, 0.0], caso='c')\n",
        "\n",
        "\n",
        "M = Assembly(structure_1.nodes, structure_1.elements)\n",
        "Solver(structure_1.nodes, structure_1.elements, M.kff_matrix, M.kfc_matrix, M.kcf_matrix, M.kcc_matrix)\n",
        "\n",
        "M = Assembly(structure_2.nodes, structure_2.elements)\n",
        "Solver(structure_2.nodes, structure_2.elements, M.kff_matrix, M.kfc_matrix, M.kcf_matrix, M.kcc_matrix)\n",
        "\n",
        "M = Assembly(structure_3.nodes, structure_3.elements)\n",
        "Solver(structure_3.nodes, structure_3.elements, M.kff_matrix, M.kfc_matrix, M.kcf_matrix, M.kcc_matrix)\n",
        "\n",
        "plot_deformed_structures([structure_1, structure_2, structure_3], text=False, nodes=True, nodes_labels=False, deformada=True, Escala=[750, 100, 100])\n",
        "\n",
        "plotStructureWithMomentDiagram([structure_1, structure_2, structure_3], Escala=[1e-5, 1e-6, 1e-6], show_structure=True)\n",
        "plotStructureWithShearDiagram([structure_1, structure_2, structure_3], Escala=[1e-6, 1e-6, 1e-6], show_structure=True)\n",
        "plotStructureWithAxialDiagram([structure_1, structure_2, structure_3], Escala=[1e-6, 1e-6, 1e-6], show_structure=True)\n"
      ]
    },
    {
      "cell_type": "markdown",
      "metadata": {},
      "source": [
        "### Run code with rigid offsets"
      ]
    },
    {
      "cell_type": "code",
      "execution_count": null,
      "metadata": {
        "colab": {
          "base_uri": "https://localhost:8080/",
          "height": 1000
        },
        "id": "AkOhYi_-nxvz",
        "outputId": "4f6956e5-8916-4da3-e955-3bf09103f9d9"
      },
      "outputs": [],
      "source": [
        "structure_1 = Structure(nombre='A case, with rigid offsets', dxdy = [0.5, 0.0], caso='a')\n",
        "structure_2 = Structure(nombre='B case, with rigid offsets', dxdy = [0.5, 0.0], caso='b')\n",
        "structure_3 = Structure(nombre='C case, with rigid offsets', dxdy = [0.5, 0.0], caso='c')\n",
        "\n",
        "M = Assembly(structure_1.nodes, structure_1.elements)\n",
        "Solver(structure_1.nodes, structure_1.elements, M.kff_matrix, M.kfc_matrix, M.kcf_matrix, M.kcc_matrix)\n",
        "\n",
        "M = Assembly(structure_2.nodes, structure_2.elements)\n",
        "Solver(structure_2.nodes, structure_2.elements, M.kff_matrix, M.kfc_matrix, M.kcf_matrix, M.kcc_matrix)\n",
        "\n",
        "M = Assembly(structure_3.nodes, structure_3.elements)\n",
        "Solver(structure_3.nodes, structure_3.elements, M.kff_matrix, M.kfc_matrix, M.kcf_matrix, M.kcc_matrix)\n",
        "\n",
        "plot_deformed_structures([structure_1, structure_2, structure_3], text=False, nodes=True, nodes_labels=False, deformada=True, Escala=[750, 500, 500])\n",
        "\n",
        "plotStructureWithMomentDiagram([structure_1, structure_2, structure_3], Escala=[1e-6, 1e-6, 1e-6], show_structure=True)\n",
        "plotStructureWithShearDiagram([structure_1, structure_2, structure_3], Escala=[1e-6, 1e-6, 1e-6], show_structure=True)\n",
        "plotStructureWithAxialDiagram([structure_1, structure_2, structure_3], Escala=[1e-6, 1e-6, 1e-6], show_structure=True)\n"
      ]
    },
    {
      "cell_type": "markdown",
      "metadata": {},
      "source": [
        "## Question 4\n",
        "\n",
        "### Which model is better?\n",
        "\n",
        "As seen in the displacement figure, it is clear that rigid offsets help reduce the deformation experienced at each point. However, as stiffness increases, internal forces also increases. Therefore, the best structure will depend on the materials available, the project cost, and the structural requirements, such as displacement limits, safety factors, or response to dynamic loads.\n",
        "\n",
        "As observed in cases B and C, although rigid offsets help reduce linear displacement, the angular deformation experienced at each node increases relative to the displacement. This makes sense, because the angular deformation of all beams connected to a node with rigid offsets must be the same. As a result, the internal moments increase, leading to greater angular deformation.\n",
        "\n",
        "Summing the results, rigid offsets help reduce displacements but increase internal forces, especially moments, due to angular continuity at the joints. This trade-off means that the best model depends on specific project needs—balancing stiffness, material costs, safety, and acceptable deformations.\n",
        "\n",
        "### How can we create a different model that achieves a more realistic result?\n",
        "\n",
        "To achieve a more realistic structural model, one approach is to model semi-rigid connections instead of assuming fully rigid or pinned joints. This can be done by introducing rotational springs or dampers, which allows for partial moment transfer and better reflects real-world behavior.\n",
        "\n",
        "One could also include shear deformation. The current model uses Euler-Bernoulli beam theory, which neglects shear effects.\n",
        "\n",
        "Additionally, more realistic models can account for soil-structure interaction by replacing fixed supports with spring-based foundations, simulating the deformability of the ground.\n",
        "\n",
        "More advanced analyses could also consider material and geometric nonlinearities, such as plasticity and siesmic response.\n",
        "\n",
        "Finally, validating and calibrating the model using experimental data or real-world measurements helps refine stiffness assumptions and improve predictive accuracy.\n"
      ]
    }
  ],
  "metadata": {
    "colab": {
      "provenance": []
    },
    "kernelspec": {
      "display_name": "Python 3",
      "language": "python",
      "name": "python3"
    },
    "language_info": {
      "codemirror_mode": {
        "name": "ipython",
        "version": 3
      },
      "file_extension": ".py",
      "mimetype": "text/x-python",
      "name": "python",
      "nbconvert_exporter": "python",
      "pygments_lexer": "ipython3",
      "version": "3.12.5"
    }
  },
  "nbformat": 4,
  "nbformat_minor": 0
}
